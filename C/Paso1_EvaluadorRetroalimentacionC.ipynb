{
 "cells": [
  {
   "cell_type": "markdown",
   "id": "fe12c203-e6a6-452c-a655-afb8a03a4ff5",
   "metadata": {},
   "source": [
    "# Generador de retroalimentación para su posterior revisión por el docente\n",
    "Este generador está pensado para pruebas de programación en las que el estudiante sube un solo fichero con su solución. Ejemplos en los que se pide que se implemente una librería, o un parte de un sistema. \n",
    "\n",
    "El generador va a iterar sobre todas las soluciones y va a generar un fichero HTML con el mismo nombre que el fichero de la prueba. Este es el primer paso de la coevaluación, en el segundo paso, el docente revisa y modifica la retroalimentación y calificación para poder notificarlo al estudiante.\n",
    "\n",
    "Se espera que tengas dos carpetas preparadas para ser usadas:\n",
    "\n",
    "1.- Carpeta **EspacioTrabajo** que contendrá el proyecto completo. En él posteriormente se copiaran la prueba del estudiante una a una y se compilará. Esta carpeta puede ser el esqueleto que se suele dar al estudiante para que trabaje durante el examen.\n",
    "\n",
    "2.- Carpeta **pruebas** que contendrá todas las pruebas que necesitan retroalimentación. Se asume que es un sólo fichero y que vendrá con el nombre o id de cada estudiante en el nombre. Moodle tiene la opción de descargar todas las pruebas de una tarea."
   ]
  },
  {
   "cell_type": "code",
   "execution_count": 1,
   "id": "c1070317-3ed9-4659-abe3-828943230e03",
   "metadata": {},
   "outputs": [
    {
     "data": {
      "text/plain": [
       "True"
      ]
     },
     "execution_count": 1,
     "metadata": {},
     "output_type": "execute_result"
    }
   ],
   "source": [
    "# Importamos las liberarías necesarias\n",
    "import os #Para copiar el código del estudiante al proyecto para compilar\n",
    "import subprocess #Para compilar el código\n",
    "from dotenv import load_dotenv #Para cargar las variables de entorno\n",
    "import anthropic #Para cargar las variables necesarias para la API de Anthropic\n",
    "from openai import OpenAI   #Para cargar las variables necesarias para la API de OpenAI\n",
    "load_dotenv()"
   ]
  },
  {
   "cell_type": "code",
   "execution_count": 2,
   "id": "34059230",
   "metadata": {},
   "outputs": [
    {
     "name": "stdout",
     "output_type": "stream",
     "text": [
      "OpenAI API Key exists and begins sk-proj-\n"
     ]
    }
   ],
   "source": [
    "\n",
    "# Añadimos la clave de la API, has debido crearla en OpenIA y almacenarla en el .env del entorno Anaconda.\n",
    "openai_api_key = os.getenv('OPENAI_API_KEY')\n",
    "\n",
    "if openai_api_key:\n",
    "    print(f\"OpenAI API Key exists and begins {openai_api_key[:8]}\")\n",
    "else:\n",
    "    print(\"OpenAI API Key not set\")\n",
    "\n",
    "MODEL_GPT = 'o3-mini'\n",
    "openai = OpenAI()\n"
   ]
  },
  {
   "cell_type": "markdown",
   "id": "22648fa8",
   "metadata": {},
   "source": [
    "# Usar otros LLM\n",
    "Tienes configurado el uso de Claude, puede usarlo o no, recuerda modificar el EvaluarPrueba para añadir otros"
   ]
  },
  {
   "cell_type": "code",
   "execution_count": 3,
   "id": "4a456906-915a-4bfd-bb9d-57e505c5093f",
   "metadata": {},
   "outputs": [
    {
     "name": "stdout",
     "output_type": "stream",
     "text": [
      "Anthropic API Key exists and begins sk-ant-\n"
     ]
    }
   ],
   "source": [
    "# Puedes usar si tienes el LLM de Anthropic\n",
    "anthropic_api_key = os.getenv('ANTHROPIC_API_KEY')\n",
    "\n",
    "if anthropic_api_key:\n",
    "    print(f\"Anthropic API Key exists and begins {anthropic_api_key[:7]}\")\n",
    "else:\n",
    "    print(\"Anthropic API Key not set\")\n",
    "\n",
    "MODEL_CLAUDE=\"claude-3-5-haiku-20241022\"\n",
    "claude = anthropic.Client(api_key=anthropic_api_key)\n"
   ]
  },
  {
   "cell_type": "markdown",
   "id": "2ecd1ae3-4a65-484b-b2b0-7f5921a43e25",
   "metadata": {},
   "source": [
    "## Esta parte desglosa el promtp que se va a generar\n",
    "* **Rúbrica general**: Contendrá las competencias que el docente quiere trabajar durante toda la asignatura (mantenibilidad, eficiencia, funcionalidad, etc).\n",
    "* **Rúbrica específica**: Desglosará los métodos/funciones, su descripción y sus pesos sobre la calificación de la prueba.\n",
    "* **Ejemplo de salida**: Tabla HTML que muestra un ejemplo de salida. Es interesante añadir los comentarios de retroalimentación que se esperan, y los que por experiencia, suele ser dónde fallan."
   ]
  },
  {
   "cell_type": "code",
   "execution_count": 4,
   "id": "36e2906e-78cc-4788-a0ad-72dd53af8129",
   "metadata": {},
   "outputs": [],
   "source": [
    "# Rúbrica general y\n",
    "def rubricaGeneral():\n",
    "    return \"\"\"\n",
    "Eres un evaluador de código de un examen de programación. Tu tarea es analizar la implementación del estudiante y generar una evaluación detallada que incluya una calificación numérica y una retroalimentación formativa para cada método. Para la retroalimentación ten en cuenta:\n",
    "1. **Mantenimiento:**\n",
    " - Evaluar que el código sea fácilmente mantenible y extensible en el futuro.\n",
    " - Evitar el uso excesivo de bucles anidados o condiciones complejas.\n",
    " - Evitar funciones demasiado largas o complejas.\n",
    " - Evitar la duplicación de código.\n",
    " - Evitar la creación de variables locales innecesarias.\n",
    "2. **Claridad:**\n",
    " - Asegurar que la estructura del código permita una lectura clara. \n",
    " - Utilizar nombres descriptivos y claros en las variables.\n",
    " - Añadir comentarios para documentar partes complejas.\n",
    "3. **Eficiencia:**\n",
    "- Evitar llamadas recursivas innecesarias.\n",
    "- Evitar recorridos innecesarios en estructuras de datos. \n",
    "4. **Funcionalidad:**\n",
    " - El código debe funcionar en llamadas correctas sin errores.\n",
    " - Cuando los parámetros de entrada no estén restringidos, el código de gestionar correctamente la introducción de parámetros incorrectos (por ejemplo valores NULL, número negativos, etc)\n",
    "**Para la calificación de cada método**. Si la funcionalidad es correcta (punto 4 anterior), tendrá un 100% de la nota del método, si no, tendrá un máximo de un 50%. Puedes restar según los siguientes criterios hasta:\n",
    " - Un 10% si el código no es mantenible (punto 1 anterior)\n",
    " - Un 10% si el código no es claro (punto 2 anterior)\n",
    " - Un 5% si el código no es eficiente (punto 3 anterior)\n",
    "**Formato de Salida:** La salida de la evaluación debe ser en HTML y contendrá:\n",
    " - Una línea con la calificación final sobre 10 y añade <br> al final.\n",
    " - Una tabla HTML con tres columnas: \"Método\", \"Puntuación\" y \"Feedback\".\n",
    " - Cada fila de la tabla debe corresponder a uno de los ítems evaluados.\"\"\"\n"
   ]
  },
  {
   "cell_type": "code",
   "execution_count": 5,
   "id": "51e86fce-eb57-4565-9f0d-ba8870bf5681",
   "metadata": {},
   "outputs": [],
   "source": [
    "def rubricaEspecifica():\n",
    "    return \"\"\"Estos son los métodos a evaluar y dar una retroalimentación formativa:\n",
    " - `void poly_crear(struct Polinomio **polinomio)` (1 punto): Esta función se encarga de crear un polinomio, reservando la memoria necesaria para la estructura que lo representa y debe asignar a *p la memoria incializada. Inicializa los valores de la estructura para que esté listo para su uso posterior. En caso de no poder pedir memoria, debe finalizar el programa con código -1.\n",
    " - `int poly_grado(const struct Polinomio *polinomio)` (1 punto): Obtiene el grado de un polinomio. Devuelve -1 en caso de no poder calcularlo.\n",
    " - `int poly_coeficiente(const struct Polinomio *polinomio, int exponente)` (1 punto): Obtiene el coeficiente de un polinomio. Devuelve el coeficiente del monomio, o 0 si no existe, puede ser negativo (-3x^2).\n",
    " - `int poly_agregar(struct Polinomio *polinomio, int coeficiente, int exponente)`(2.5 puntos): Inserta un monomio en un polinomio. En caso de existir suma (ojo que coeficiente puede ser negativo o positivo, si queda a cero se elimina). En caso de no poder pedir memoria, debe finalizar el programa con código -1. En caso de no poder agregar, devuelve -1 en caso de no poder agregar. Devuelve 0 si puede agregar\n",
    " - `void poly_imprimir(const struct Polinomio *polinomio)` (1.25 puntos): Imprime los coeficientes y exponentes de un polinomio. Esta función toma un puntero a una estructura Polinomio y muestra en la salida estándar los coeficientes y exponentes del polinomio en un formato legible. Un ejemplo de salida:3x^2 2x^4 4x^5 .Otro ejemplo cuando el polinomio no existe: Polinomio no existe.\n",
    " - `void poly_destruir(struct Polinomio *polinomio)`(1.25 puntos): Destruye un polinomio liberando la memoria que ocupaba y dejando la estructura inicializada para alojar otro polinomio. Esta función se encarga de liberar la memoria que ocupaba un polinomio previamente inicializado. Se encarga de liberar la memoria de cada monomio que lo compone. Deja la estructura struct Polinomio lista ser usada de nuevo.\n",
    " - `struct Polinomio *poly_sumar(const struct Polinomio *polinomio1, const struct Polinomio *polinomio2)` (2 puntos): Esta función toma dos estructuras de polinomios como entrada y devuelve una NUEVA estructura de polinomio que representa la suma de los dos polinomios de entrada. En caso de no poder realizar la suma, se debe devolver NULL. En caso de no poder pedir memoria, debe finalizar el programa con código -1.\n",
    "\n",
    " Esta es la estructura de datos:\n",
    " \n",
    "struct Monomio\n",
    "{\n",
    "\tint coeficiente;\n",
    "\tint eexponentexp;\n",
    "\tstruct Monomio *siguiente;\n",
    "};\n",
    "\n",
    "struct Polinomio\n",
    "{\n",
    "\tstruct Monomio *primero;\n",
    "\tstruct Monomio *ultimo;\n",
    "};\"\"\""
   ]
  },
  {
   "cell_type": "code",
   "execution_count": 6,
   "id": "49c3846a-0b51-4347-924e-a319e11def51",
   "metadata": {},
   "outputs": [],
   "source": [
    "def ejemploSalida():\n",
    "    return \"\"\"\n",
    " ** Ejemplo de salida **:\n",
    "Calificación final: 1/10\n",
    "\n",
    "<table border=\"1\">\n",
    "  <tr>\n",
    "    <th>Método</th>\n",
    "    <th>Puntuación</th>\n",
    "    <th>Retroalimentación</th>\n",
    "  </tr>\n",
    "  <tr>\n",
    "    <td>poly_crear</td>\n",
    "    <td>0.5 / 1</td>\n",
    "    <td>\n",
    "      <strong>Funcionalidad:</strong> La función no inicializa correctamente los punteros <code>primero</code> y <code>ultimo</code> después de reservar memoria. <br>\n",
    "      <strong>Mantenimiento:</strong> Sin comentarios.<br>\n",
    "      <strong>Claridad:</strong> Se crea una variable <code>aux</code> para pedir memoria y luego se asigna a la variable <code>*p</code>: usa directamente la variable <code>*p</code> y renombra a algo más descriptivo como <code>*polinomio</code>. Esto mejora la claridad del código con nombres descriptivos y elimina el uso de variables innecesarias que complica la compresión del código.<br>\n",
    "      <strong>Eficiencia:</strong> Sin comentarios.<br>\n",
    "      <em>Sugerencia Formativa:</em> Asegúrate de inicializar todos los campos de la estructura inmediatamente después de la asignación y utiliza <code>exit(-1)</code> para errores críticos en la reserva de memoria.\n",
    "    </td>\n",
    "  </tr>\n",
    "  <tr>\n",
    "    <td>poly_grado</td>\n",
    "    <td>0.5 / 1</td>\n",
    "    <td>\n",
    "      <strong>Funcionalidad:</strong> El cálculo del grado del polinomio falla en casos en que el polinomio es nulo o la lista está vacía.<br>\n",
    "      <strong>Mantenimiento:</strong>Se puede crear una función auxiliar es_polinomio_con_contenido(const struct Polinomio *polinomio) que se encargue de controlar si tiene o no contenido el polinomio. Esta función luego se puede usar en otros métodos y reduce la duplicidad de código que dificulta el mantenimiento.<br>\n",
    "      <strong>Claridad:</strong> Usa nombres descriptivos para las variables, por ejemplo, en vez de usar <code>r</code>, usa <code>resultado</code>.\n",
    "      <strong>Eficiencia:</strong> Es ineficiente (O(n)) recorrer la lista para encontrar el grado, ya que se puede hacer en O(1) si accedes al último del polinomio.<br>\n",
    "      <em>Sugerencia Formativa:</em> La descomposición en subfunciones permite reducir la duplicidad de código y mejorar la legibilidad y el mantenimiento. \n",
    "    </td>\n",
    "  </tr>\n",
    "  <tr>\n",
    "    <td>poly_coeficiente</td>\n",
    "    <td>0.5 / 1</td>\n",
    "    <td>\n",
    "      <strong>Funcionalidad:</strong> La función no contempla correctamente el caso en que se solicite un exponente negativo o inexistente.<br>\n",
    "      <strong>Mantenimiento:</strong>Se puede crear una función auxiliar void buscar_anterior_actual_monomio_exponente(const struct Polinomio *polinomio, int exponente, struct Monomio ** actual, struct Monomio ** anterior) que se encargue de buscar un exponente en el polinomio y de devuelva un puntero al monomio anterior y al actual. Esta función luego se puede usar en otros métodos y reduce la duplicidad de código que dificulta el mantenimiento.<br>\n",
    "      <strong>Claridad:</strong> Usa nombres descriptivos para las variables, por ejemplo, en vez de usar <code>act</code>, usa <code>actual</code>.\n",
    "      <strong>Eficiencia:</strong> Sin comentarios <br>\n",
    "      <em>Sugerencia Formativa:</em> Revisa bien siempre los casos extremos, es dónde más suele fallar el código. ¡Usa la descomposición funcional! Esto permite reducir la duplicidad de código y mejorar la legibilidad y el mantenimiento. \n",
    "   </td>\n",
    "  </tr>\n",
    "  <tr>\n",
    "    <td>poly_agregar</td>\n",
    "    <td>1.0 / 2.5</td>\n",
    "    <td>ejemp\n",
    "      <strong>Funcionalidad:</strong> Al insertar un monomio, la función no suma correctamente coeficientes existentes y no elimina los nodos con coeficiente 0.<br>\n",
    "      <strong>Mantenimiento:</strong> Una función así de larga y sin funciones auxiliares es compleja de mantener. Puedes sacar la inserción en cabeza y en medio/final en funciones a parte.\n",
    "      <strong>Claridad:</strong> La función es muy larga y es complicada de seguir. Añadir comentarios y hacer uso de funciones auxiliares es vital para que se pueda entender.\n",
    "      <strong>Eficiencia:</strong> Sin comentarios <br>\n",
    "      <em>Sugerencia Formativa:</em> Una función muy larga es síntoma de que algo no va bien. Se debe siempre descomponer en bloques más simples, así haces código más mantenible.\n",
    "    </td>\n",
    "  </tr>\n",
    "  <tr>\n",
    "    <td>poly_imprimir</td>\n",
    "    <td>1.25 / 1.25</td>\n",
    "    <td>\n",
    "      <strong>Funcionalidad:</strong> Sin comentarios <br>\n",
    "      <strong>Mantenimiento:</strong> Sin comentarios <br>\n",
    "      <strong>Claridad:</strong> Sin comentarios <br>\n",
    "      <strong>Eficiencia:</strong> Sin comentarios <br>\n",
    "      <em>Sugerencia Formativa:</em> Sin comentarios <br>\n",
    "    </td>\n",
    "  </tr>\n",
    "  <tr>\n",
    "    <td>poly_destruir</td>\n",
    "    <td>0.75 / 1.25</td>\n",
    "    <td>\n",
    "      <strong>Funcionalidad:</strong> La función no libera correctamente todos los nodos, dejando posibles fugas de memoria. Además, debería poner a NULL el último y el primero tras eliminar el resto de nodos.<br>\n",
    "      <strong>Mantenimiento:</strong> Sin comentarios <br>\n",
    "      <strong>Claridad:</strong> ¡Usa nombres descriptivos! En vez de <code>aux</code>, puedes usar <code>cabeza</code> que describe mejor qué representa.<br>\n",
    "      <strong>Eficiencia:</strong> Sin comentarios <br>\n",
    "      <em>Sugerencia Formativa:</em> Con el depurador puedes ver si se están liberando todos los nodos. Además, es importante poner a NULL los punteros que ya no se usan para evitar errores futuros.\n",
    "     </td>\n",
    "  </tr>\n",
    "  <tr>\n",
    "    <td>poly_sumar</td>\n",
    "    <td>1.0 / 2</td>\n",
    "    <td>\n",
    "      <strong>Funcionalidad:</strong> La función de suma no maneja correctamente los coeficientes cuando ambos polinomios tienen monomios con el mismo exponente; además, no se verifican los casos en que uno de los polinomios es NULL.<br>\n",
    "      <strong>Mantenimiento:</strong> Sin comentarios <br>\n",
    "      <strong>Claridad:</strong> ¡Usa nombres descriptivos! En vez de <code>aux</code>, puedes usar <code>cabeza</code> que describe mejor qué representa.<br>\n",
    "      <strong>Eficiencia:</strong> Añades primero todos los de un polinomio y luego los del otro. Puedes ir añadiendo a la vez, así no recorres las dos listas al completo (cuando coinciden los exponentes, se suman y avanzan las dos a la vez).<br>\n",
    "      <em>Sugerencia Formativa:</em> Revisa la salida por pantalla bien, falla en los casos básicos que se proporciona.\n",
    "    </td>\n",
    "  </tr>\n",
    "</table>\"\"\"\n",
    "\n",
    "     \n",
    "            "
   ]
  },
  {
   "cell_type": "markdown",
   "id": "7b4de349-9cc3-4126-8ecc-e7318089550b",
   "metadata": {},
   "source": [
    "## El siguiente método se encarga de compilar y devolver el prompt ya generado\n",
    "* **Rúbrica general**: Contendrá las competencias que el docente quiere trabajar durante toda la asignatura (mantenibilidad, eficiencia, funcionalidad, etc).\n",
    "* **Rúbrica específica**: Desglosará los métodos/funciones, su descripción y sus pesos sobre la calificación de la prueba.\n",
    "* **Ejemplo de salida**: Tabla HTML que muestra un ejemplo de salida. Es interesante añadir los comentarios de retroalimentación que se esperan, y los que por experiencia, suele ser dónde fallan."
   ]
  },
  {
   "cell_type": "code",
   "execution_count": 7,
   "id": "942e8c81-8e8a-4cea-a531-7dce7a5823fe",
   "metadata": {},
   "outputs": [],
   "source": [
    "def prompt(userCode,compilation_output):\n",
    "    return f\"\"\" {rubricaGeneral()}\n",
    "                {rubricaEspecifica()}\n",
    "                {ejemploSalida()}\n",
    "                Evalua el siguiente código del estudiante.{compilation_output}\n",
    "                {userSol}\"\"\""
   ]
  },
  {
   "cell_type": "code",
   "execution_count": 8,
   "id": "a98da29c-ffae-4f10-9c2e-7092f1bcf160",
   "metadata": {},
   "outputs": [],
   "source": [
    "def compilarCodigo(input_file,MODEL):\n",
    "    #Modifica para copiar el fichero del estudiante con su solución al espacio de trabajo antes de copilar    \n",
    "    dest = \"./EspacioTrabajo/PolinomioL/polinomio.c\"\n",
    "    cp_command = f'cp \"{input_file}\" {dest}'\n",
    "    subprocess.run(cp_command, shell=True)\n",
    "    print(\"Copia realizada\")\n",
    "\n",
    "    #Comando de compilación                                                                  \n",
    "    command = 'gcc ./EspacioTrabajo/principal.c ./EspacioTrabajo/PolinomioL/Polinomio.c -Wall -Wextra -Wpedantic'\n",
    "    try:\n",
    "        result = subprocess.run(\n",
    "            command, shell=True, text=True,capture_output=True\n",
    "        )\n",
    "        compilation_output = \"compila con ERRORES\" if \"error\" in result.stderr or \"error\" in result.stdout else \"compila correctamente\"\n",
    "\n",
    "    except Exception as e:\n",
    "        print(\"An error occurred while running the compilation command:\", str(e))\n",
    "\n",
    "    userCode = \"\"\n",
    "    with open(dest, \"r\", encoding=\"utf-8\") as infile:\n",
    "        for line_number, line_content in enumerate(infile, start=1):\n",
    "            userCode += f\"{line_content}\"\n",
    "    return userCode,compilation_output\n",
    "    "
   ]
  },
  {
   "cell_type": "code",
   "execution_count": 9,
   "id": "0f890494-2217-4bce-a00f-824f8112752a",
   "metadata": {},
   "outputs": [],
   "source": [
    "def readPrueba(input_file,MODEL):\n",
    "    codigoUsario,salidaCompilacion=compilarCodigo(input_file,MODEL)\n",
    "    return salidaCompilacion,f\"\"\"{rubricaGeneral()}\n",
    "{rubricaEspecifica()}\n",
    "{ejemploSalida()}\n",
    "\n",
    "Evalua el siguiente código del estudiante que {salidaCompilacion}:\n",
    "\n",
    "{codigoUsario}\n",
    "    \"\"\"\n",
    "    "
   ]
  },
  {
   "cell_type": "markdown",
   "id": "21ab343a-1780-4a3e-9906-7ef84175e1e8",
   "metadata": {},
   "source": [
    "## Importante realizar una primera prueba y ver que la salida del prompt sea correcta\n",
    "Localiza un examen de un estudiante y haz la prueba a generar el prompt. Luego introduce un error que no permita compilar y vuelve a generar. Así puebas que la generación sea correcta en ambos casos, cuando compila y cuando no."
   ]
  },
  {
   "cell_type": "code",
   "execution_count": null,
   "id": "d38ccb51-959d-45c4-81ae-eb9475caea5f",
   "metadata": {},
   "outputs": [],
   "source": [
    "a=readPrueba(\"./pruebas/Senador Rebeca_4339049_assignsubmission_file_polinomio.c\",MODEL_GPT)\n",
    "print(a[0])  # Prints the first element of the tuple, e.g., 'compila correctamente'\n",
    "print(a[1])  # Prints and interprets the second element of the tuple, which contains '\\n'"
   ]
  },
  {
   "cell_type": "code",
   "execution_count": 10,
   "id": "575d408a-b08c-4878-ba66-6a532904848c",
   "metadata": {},
   "outputs": [],
   "source": [
    "def EvaluarPrueba(estudiante,MODEL):\n",
    "    print(\"----------------------\")\n",
    "    # Construimos el mensaje para el modelo\n",
    "    salidaCompilacion, prompt=readPrueba(estudiante, MODEL)\n",
    "    message = [\n",
    "        {\"role\": \"user\", \"content\": prompt}\n",
    "    ]\n",
    "    # Llamamos al modelo de OpenAI o Anthropic\n",
    "    result=\"\"\n",
    "    if (MODEL==MODEL_GPT):\n",
    "        \n",
    "        response = openai.chat.completions.create(\n",
    "            messages=message,\n",
    "            model=MODEL,\n",
    "        )\n",
    "        result= f\"{salidaCompilacion}<br>\\n\" + response.choices[0].message.content\n",
    "    elif (MODEL==MODEL_CLAUDE):\n",
    "        response = claude.messages.create(\n",
    "            model=MODEL_CLAUDE,\n",
    "            max_tokens=5000,\n",
    "            temperature=0.1,\n",
    "            messages=message,\n",
    "        )\n",
    "        result = f\"{salidaCompilacion}<br>\\n\" +response.content[0].text \n",
    "\n",
    "    return result"
   ]
  },
  {
   "cell_type": "markdown",
   "id": "9713c945-9080-46b8-b617-ce595d96824a",
   "metadata": {},
   "source": [
    "## Otra prueba\n",
    "Escoge dos o tres estudiantes y observa si consigue calificar bien antes de continuar. Si observas que falta información o que has olvidado algo en alguna rúbrica, ahora es el momento de arreglarlo.\n"
   ]
  },
  {
   "cell_type": "code",
   "execution_count": 11,
   "id": "bf8f9875-c3b4-43c6-815c-b3500eb41d56",
   "metadata": {},
   "outputs": [
    {
     "name": "stdout",
     "output_type": "stream",
     "text": [
      "Model o3-mini\n",
      "----------------------\n",
      "Copia realizada\n"
     ]
    },
    {
     "ename": "NameError",
     "evalue": "name 'rubricaEspecifica' is not defined",
     "output_type": "error",
     "traceback": [
      "\u001b[31m---------------------------------------------------------------------------\u001b[39m",
      "\u001b[31mNameError\u001b[39m                                 Traceback (most recent call last)",
      "\u001b[36mCell\u001b[39m\u001b[36m \u001b[39m\u001b[32mIn[11]\u001b[39m\u001b[32m, line 5\u001b[39m\n\u001b[32m      2\u001b[39m estudiante = \u001b[33m\"\u001b[39m\u001b[33m./pruebas/Senador Rebeca_4339049_assignsubmission_file_polinomio.c\u001b[39m\u001b[33m\"\u001b[39m\n\u001b[32m      4\u001b[39m \u001b[38;5;28mprint\u001b[39m(\u001b[33mf\u001b[39m\u001b[33m\"\u001b[39m\u001b[33mModel \u001b[39m\u001b[38;5;132;01m{\u001b[39;00mMODEL_GPT\u001b[38;5;132;01m}\u001b[39;00m\u001b[33m\"\u001b[39m)\n\u001b[32m----> \u001b[39m\u001b[32m5\u001b[39m resultado = \u001b[43mEvaluarPrueba\u001b[49m\u001b[43m(\u001b[49m\u001b[43mestudiante\u001b[49m\u001b[43m,\u001b[49m\u001b[43m \u001b[49m\u001b[43mmodelo\u001b[49m\u001b[43m)\u001b[49m\n\u001b[32m      6\u001b[39m \u001b[38;5;28mprint\u001b[39m(\u001b[33m\"\u001b[39m\u001b[33mResultado obtenido\u001b[39m\u001b[33m\"\u001b[39m)\n\u001b[32m      7\u001b[39m \u001b[38;5;28mprint\u001b[39m(resultado)\n",
      "\u001b[36mCell\u001b[39m\u001b[36m \u001b[39m\u001b[32mIn[10]\u001b[39m\u001b[32m, line 4\u001b[39m, in \u001b[36mEvaluarPrueba\u001b[39m\u001b[34m(estudiante, MODEL)\u001b[39m\n\u001b[32m      2\u001b[39m \u001b[38;5;28mprint\u001b[39m(\u001b[33m\"\u001b[39m\u001b[33m----------------------\u001b[39m\u001b[33m\"\u001b[39m)\n\u001b[32m      3\u001b[39m \u001b[38;5;66;03m# Construimos el mensaje para el modelo\u001b[39;00m\n\u001b[32m----> \u001b[39m\u001b[32m4\u001b[39m salidaCompilacion, prompt=\u001b[43mreadPrueba\u001b[49m\u001b[43m(\u001b[49m\u001b[43mestudiante\u001b[49m\u001b[43m,\u001b[49m\u001b[43m \u001b[49m\u001b[43mMODEL\u001b[49m\u001b[43m)\u001b[49m\n\u001b[32m      5\u001b[39m message = [\n\u001b[32m      6\u001b[39m     {\u001b[33m\"\u001b[39m\u001b[33mrole\u001b[39m\u001b[33m\"\u001b[39m: \u001b[33m\"\u001b[39m\u001b[33muser\u001b[39m\u001b[33m\"\u001b[39m, \u001b[33m\"\u001b[39m\u001b[33mcontent\u001b[39m\u001b[33m\"\u001b[39m: prompt}\n\u001b[32m      7\u001b[39m ]\n\u001b[32m      8\u001b[39m \u001b[38;5;66;03m# Llamamos al modelo de OpenAI o Anthropic\u001b[39;00m\n",
      "\u001b[36mCell\u001b[39m\u001b[36m \u001b[39m\u001b[32mIn[9]\u001b[39m\u001b[32m, line 4\u001b[39m, in \u001b[36mreadPrueba\u001b[39m\u001b[34m(input_file, MODEL)\u001b[39m\n\u001b[32m      1\u001b[39m \u001b[38;5;28;01mdef\u001b[39;00m\u001b[38;5;250m \u001b[39m\u001b[34mreadPrueba\u001b[39m(input_file,MODEL):\n\u001b[32m      2\u001b[39m     codigoUsario,salidaCompilacion=compilarCodigo(input_file,MODEL)\n\u001b[32m      3\u001b[39m     \u001b[38;5;28;01mreturn\u001b[39;00m salidaCompilacion,\u001b[33mf\u001b[39m\u001b[33m\"\"\"\u001b[39m\u001b[38;5;132;01m{\u001b[39;00mrubricaGeneral()\u001b[38;5;132;01m}\u001b[39;00m\n\u001b[32m----> \u001b[39m\u001b[32m4\u001b[39m \u001b[38;5;132;01m{\u001b[39;00m\u001b[43mrubricaEspecifica\u001b[49m()\u001b[38;5;132;01m}\u001b[39;00m\n\u001b[32m      5\u001b[39m \u001b[38;5;132;01m{\u001b[39;00mejemploSalida()\u001b[38;5;132;01m}\u001b[39;00m\n\u001b[32m      6\u001b[39m \n\u001b[32m      7\u001b[39m \u001b[33mEvalua el siguiente código del estudiante que \u001b[39m\u001b[38;5;132;01m{\u001b[39;00msalidaCompilacion\u001b[38;5;132;01m}\u001b[39;00m\u001b[33m:\u001b[39m\n\u001b[32m      8\u001b[39m \n\u001b[32m      9\u001b[39m \u001b[38;5;132;01m{\u001b[39;00mcodigoUsario\u001b[38;5;132;01m}\u001b[39;00m\n\u001b[32m     10\u001b[39m \u001b[33m    \u001b[39m\u001b[33m\"\"\"\u001b[39m\n",
      "\u001b[31mNameError\u001b[39m: name 'rubricaEspecifica' is not defined"
     ]
    }
   ],
   "source": [
    "modelo = MODEL_GPT\n",
    "estudiante = \"./pruebas/Senador Rebeca_4339049_assignsubmission_file_polinomio.c\"\n",
    "\n",
    "print(f\"Model {MODEL_GPT}\")\n",
    "resultado = EvaluarPrueba(estudiante, modelo)\n",
    "print(\"Resultado obtenido\")\n",
    "print(resultado)"
   ]
  },
  {
   "cell_type": "markdown",
   "id": "5ad21038-dfb3-46f2-bf12-440c8eb191b4",
   "metadata": {},
   "source": [
    "## Llegamos al paso final\n",
    "Aquí se va iterando sobre todos los examenes y se solicita el LLM que genere la retroalimentación formativa. \n",
    "\n",
    "Observa que se genera un fichero resultados con el prompt de entrada y la salida.\n",
    "\n",
    "La salida se guarda con extensión HTML y con el mismo nombre que tiene el fichero de pruebas."
   ]
  },
  {
   "cell_type": "code",
   "execution_count": null,
   "id": "00f5cfa6-b8af-4236-89cc-a04919ee63c2",
   "metadata": {
    "scrolled": true
   },
   "outputs": [],
   "source": [
    "import os\n",
    "import time\n",
    "# Define la carpeta donde están los archivos .java\n",
    "carpeta = \"./pruebas\"\n",
    "archivo_centralizado = \"resultados.txt\"\n",
    "resultados_globales = []\n",
    "extension = \".c\"\n",
    "# Función para procesar todos los archivos .java\n",
    "def procesar_pruebas(carpeta, modelo):\n",
    "    # Recorre todos los archivos en la carpeta\n",
    "    \n",
    "    for filename in os.listdir(carpeta):\n",
    "        print(\"---------------------------\")\n",
    "        print(filename)\n",
    "        if filename[0]==\".\" or not filename.endswith(extension):\n",
    "            print(\"Archivo no evaluable ¨\" + filename + \", saltamos al siguiente\")\n",
    "            continue\n",
    "            \n",
    "        # Solo procesa los archivos con extensión .java\n",
    "       \n",
    "        \n",
    "        estudiante = os.path.join(carpeta + \"/\", filename )\n",
    "\n",
    "        # Llama a la función EvaluarExamen y obtén el prompt\n",
    "        resultado = EvaluarPrueba(estudiante, modelo)\n",
    "\n",
    "        if (resultado == None):\n",
    "            print(\"No se ha podido compilar el código del estudiante. Por favor, revisa el código y vuelve a intentarlo.\")\n",
    "        else:\n",
    "            resultados_globales.append(f\"{estudiante}:{resultado}\")\n",
    "            \n",
    "            # Crea el nombre del archivo de salida con extensión .txt\n",
    "            archivo_resultado = os.path.splitext(estudiante)[0] + \"_\" + modelo+ \"_Resultado.html\"\n",
    "            \n",
    "            # Guarda el resultado en el archivo .txt\n",
    "            with open(archivo_resultado, \"w\") as f:\n",
    "                f.write(resultado)\n",
    "                print(f\"Resultado guardado en: {archivo_resultado}\")\n",
    "            \n",
    "    with open(archivo_centralizado, \"w\") as f:\n",
    "        f.write(\"\\n\".join(resultados_globales))\n",
    "        print(f\"Resultados centralizados guardados en: {archivo_centralizado}\")\n",
    "    \n",
    "\n",
    "# Llamada a la función con el modelo\n",
    "procesar_pruebas(carpeta, MODEL_GPT)\n",
    "#procesar_pruebas(carpeta, MODEL_CLAUDE)\n"
   ]
  }
 ],
 "metadata": {
  "kernelspec": {
   "display_name": "coevaluador",
   "language": "python",
   "name": "python3"
  },
  "language_info": {
   "codemirror_mode": {
    "name": "ipython",
    "version": 3
   },
   "file_extension": ".py",
   "mimetype": "text/x-python",
   "name": "python",
   "nbconvert_exporter": "python",
   "pygments_lexer": "ipython3",
   "version": "3.12.9"
  }
 },
 "nbformat": 4,
 "nbformat_minor": 5
}
